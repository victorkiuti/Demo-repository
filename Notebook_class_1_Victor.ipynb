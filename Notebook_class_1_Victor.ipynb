{
  "nbformat": 4,
  "nbformat_minor": 0,
  "metadata": {
    "colab": {
      "provenance": [],
      "authorship_tag": "ABX9TyOnFqNI9DLqifwtJ7hRmC+b",
      "include_colab_link": true
    },
    "kernelspec": {
      "name": "python3",
      "display_name": "Python 3"
    },
    "language_info": {
      "name": "python"
    }
  },
  "cells": [
    {
      "cell_type": "markdown",
      "metadata": {
        "id": "view-in-github",
        "colab_type": "text"
      },
      "source": [
        "<a href=\"https://colab.research.google.com/github/victorkiuti/Demo-repository/blob/main/Notebook_class_1_Victor.ipynb\" target=\"_parent\"><img src=\"https://colab.research.google.com/assets/colab-badge.svg\" alt=\"Open In Colab\"/></a>"
      ]
    },
    {
      "cell_type": "markdown",
      "source": [],
      "metadata": {
        "id": "dQ0A-RPIQpdm"
      }
    },
    {
      "cell_type": "code",
      "execution_count": null,
      "metadata": {
        "id": "Qv86ou7mMyr1"
      },
      "outputs": [],
      "source": [
        "print (\"hello world\")"
      ]
    },
    {
      "cell_type": "markdown",
      "source": [
        "**Variables in python**\n",
        "\n",
        "The variable saves a value for some data\n"
      ],
      "metadata": {
        "id": "ufb6RjVfTzFt"
      }
    },
    {
      "cell_type": "code",
      "source": [
        "name = \"Tony\" #Variable of variable is a string (names)\n",
        "age = 30 #Tyoe Variable is Integer or numeric (The program can read without the \"\")\n",
        "print (name)\n",
        "print (age)"
      ],
      "metadata": {
        "id": "PrxMm8WlQm_z"
      },
      "execution_count": null,
      "outputs": []
    },
    {
      "cell_type": "markdown",
      "source": [
        "In python you can change de value of a variable after specify a data for that variable.\n",
        "Example"
      ],
      "metadata": {
        "id": "4pfDXmtRXZai"
      }
    },
    {
      "cell_type": "code",
      "source": [
        "name = \"tony\"\n",
        "age = 20\n",
        "name = age\n",
        "print (name)"
      ],
      "metadata": {
        "id": "YVf-Yd86U7ij"
      },
      "execution_count": null,
      "outputs": []
    },
    {
      "cell_type": "code",
      "source": [],
      "metadata": {
        "id": "iLpFi53GXxm7"
      },
      "execution_count": null,
      "outputs": []
    }
  ]
}